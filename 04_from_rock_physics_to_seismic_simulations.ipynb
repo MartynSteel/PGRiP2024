{
 "cells": [
  {
   "cell_type": "markdown",
   "metadata": {},
   "source": [
    "## <center> 04. From Rock Physics to Seismic Simulations</center>\n",
    "<center><i>Author: M Steel</i></center>"
   ]
  },
  {
   "cell_type": "markdown",
   "metadata": {},
   "source": [
    "### <center> 1. Amplitude Versus Offset Analysis</center>"
   ]
  },
  {
   "cell_type": "markdown",
   "metadata": {},
   "source": [
    "Conventional seismic interpretation implies picking and tracking laterally consistent seismic reflectors for the purpose of mapping geological structures, stratigraphy and reservoir architecture (Avseth et al., 2020). Quantitative seismic interpretation (QSI) looks at variations in seismic characteristics (e.g., impedance, amplitude, polarization) and changes in elastic moduli. QSI developments such as amplitude variations with offset (AVO) can be analysed for purposes such as fluid indication or lithology detection. Hammond (1974) first noted that bright-spot amplitude anomalies in seismic impedance ($I = \\rho V$) could be associated with hydrocarbon traps.\n",
    "\n",
    "The basis of the AVO technique is built off of the Zoeppritz (1919) equations (Figure 1). The Zoeppritz equations describe the partitioning of energy when a seismic plane wave interacts with an acoustic interface. In a general case, for a non-zero incident wave, the incoming plane wave partitions into four waves (Figure 2):\n",
    "\n",
    "- The reflected P-wave ($R_{P}$)\n",
    "- The reflected S-wave ($R_{S}$)\n",
    "- The transmitted P-wave ($T_{P}$)\n",
    "- The transmitted S-wave ($T_{S}$)\n",
    "\n",
    "> ZOEPPRITZ EQS\n",
    "<center><b>Figure 1:</b> <i>The Zoeppritz equations</i></center>\n",
    "\n",
    "> ZOEPPRITZ FIG\n",
    "<center><b>Figure 2:</b> <i>Schematic representation of wave partitioning at an acoustic boundary</i></center>\n",
    "\n",
    "In practice, solving the Zoeppritz equations is a highly non-linear process so often linear approximations are used to make the process more computationally efficient. In my way, I use the generalised expression of Schoenberg and Protazio (1990) for anisotropic reflection coefficients to express the influence of anisotropy on AVO. I will demonstrate this utility in the code below."
   ]
  },
  {
   "cell_type": "code",
   "execution_count": 4,
   "metadata": {},
   "outputs": [],
   "source": [
    "import mantis_core.interface as manIT\n",
    "import mantis_core.utilities as manUT\n",
    "top_properties = {\"Vp\": 3.82, \"Vs\": 2.06, \"Rho\": 2.56} # Endurance overburden\n",
    "bot_properties = {\"Vp\": 3.89, \"Vs\": 2.18, \"Rho\": 2.31} # Endurance reservoir\n",
    "\n",
    "layer1 = manIT.SchoenbergProtazio(\n",
    "    Cij=manUT.VtoCij(**top_properties),\n",
    "    density=top_properties[\"Rho\"],\n",
    ")\n",
    "\n",
    "layer2 = manIT.SchoenbergProtazio(\n",
    "    Cij=manUT.VtoCij(**bot_properties),\n",
    "    density=bot_properties[\"Rho\"],\n",
    ")\n",
    "\n",
    "layer2VTI = manIT.SchoenbergProtazio(\n",
    "    Cij=manUT.thomsen_vti(**bot_properties, epsilon=0.1, delta=0.1, gamma=.1),\n",
    "    density=bot_properties[\"Rho\"],\n",
    ")\n",
    "\n",
    "layer2HTI = manIT.SchoenbergProtazio(\n",
    "    Cij=manUT.interchange_y_and_z(\n",
    "        manUT.thomsen_vti(**bot_properties, epsilon=0.1, delta=0.1, gamma=0.1)\n",
    "    ),\n",
    "    density=bot_properties[\"Rho\"],\n",
    ")\n",
    "\n",
    "layerrotated2HTI = manIT.SchoenbergProtazio(\n",
    "    Cij=manUT.azimuthal_rotation(manUT.interchange_y_and_z(\n",
    "        manUT.thomsen_vti(**bot_properties, epsilon=0.1, delta=0.1, gamma=0.1)\n",
    "    ), theta = 90),\n",
    "    density=bot_properties[\"Rho\"],\n",
    ")\n"
   ]
  },
  {
   "cell_type": "code",
   "execution_count": 5,
   "metadata": {},
   "outputs": [
    {
     "name": "stderr",
     "output_type": "stream",
     "text": [
      "/tmp/ipykernel_25238/2234099780.py:13: ComplexWarning: Casting complex values to real discards the imaginary part\n",
      "  reflectivities[key][i]  = rt(horizontal_slowness=[0., s])[0][0,0]\n"
     ]
    },
    {
     "data": {
      "text/plain": [
       "<matplotlib.legend.Legend at 0x77d5d81495d0>"
      ]
     },
     "execution_count": 5,
     "metadata": {},
     "output_type": "execute_result"
    },
    {
     "data": {
      "image/png": "[encoded data removed]",
      "text/plain": [
       "<Figure size 288x288 with 1 Axes>"
      ]
     },
     "metadata": {
      "needs_background": "light"
     },
     "output_type": "display_data"
    }
   ],
   "source": [
    "\n",
    "import numpy as np\n",
    "angles = np.arange(0.,40, 0.5)\n",
    "rads = np.deg2rad(angles)\n",
    "slownesses = [manUT.incidence_angle_to_slowness(incidence_angle=r, Vp=top_properties[\"Vp\"]) for r in rads]\n",
    "\n",
    "reflectivities = {}\n",
    "labels = {\"Isotropic\": layer2, \"VTI\": layer2VTI, \"HTI - 0 degrees\":layer2HTI, \"HTI - 90 degrees\": layerrotated2HTI}\n",
    "\n",
    "for key, val in labels.items():\n",
    "    reflectivities[key] = np.empty(len(angles))\n",
    "    rt = manIT.ReflectionTransmissionMatrix.sp_init(spUp=layer1, spDown=val)\n",
    "    for i, s in enumerate(slownesses):\n",
    "        reflectivities[key][i]  = rt(horizontal_slowness=[0., s])[0][0,0]\n",
    "\n",
    "import matplotlib.pyplot as plt\n",
    "fig, ax = plt.subplots(figsize=(4,4))\n",
    "ax.plot(angles, reflectivities[\"Isotropic\"], label=\"isotropic\")\n",
    "ax.plot(angles, reflectivities[\"VTI\"], label=\"VTI\")\n",
    "ax.plot(angles, reflectivities[\"HTI - 0 degrees\"], label=\"HTI - 0 degrees\")\n",
    "ax.plot(angles, reflectivities[\"HTI - 90 degrees\"], label = \"HTI - 90 degrees\")\n",
    "ax.set_xlabel(\"angle (deg)\")\n",
    "ax.set_ylabel(\"p-p reflection coefficient\")\n",
    "ax.legend()"
   ]
  },
  {
   "cell_type": "markdown",
   "metadata": {},
   "source": [
    "### <center>2. 2D Finite-Difference Simulations</center>"
   ]
  },
  {
   "cell_type": "markdown",
   "metadata": {},
   "source": [
    "To be able to assess the implication of my rock physics models on the geophysical response, I run 2D finite-difference simulations. The finite-difference method is a stable way of discretising and imposing boundary conditions on partial differential equations. I use this method to simulate the propagation of a seismic wave through a defined Earth model. The finite-difference code I use is a staggered grid, 2D, anisotropic, viscoelastic representation.\n",
    "\n",
    "> Note: The finite-difference code has recently been updated so I will present figures taken from the previous code iteration\n",
    "\n",
    "For the previous finite-difference code runs, I used the following parameters:\n",
    "\n",
    "- Earth model built from Endurance well 42/25d-3 and averaging per lithological formation\n",
    "- Created 3 models, a <u>baseline</u> model with no changes from the in-situ values, an <u>elastic</u> model where I added 10% uniformly-mixed CO2 to 20 m below the seal-reservoir boundary and a <u>viscoelastic</u> model which included the altered elastic values but included a parametrised SLS model of $/omega_{ref} = log(45)$ and $Q = 8$\n",
    "- The finite-difference grid was 2001*1001 points representing 4000 m length by 2000 m depth\n",
    "- The simulated source was a Gaussian pulse\n",
    "- I set up two receiver arrays, one a line of geophones coincident to the top of the available data at 807.5 m depth and a set of 9 VSP receivers with 252 m horizontal spacing and 1372 m depth\n",
    "\n",
    "The primary outputs of the finite-difference simulations are traces (in pressure, vertical motion and horizontal motion) and snapshots (in time). Of primary interest was comparing the different traces at particular VSPs between the three defined models (Figure 3) and primary and multiples in the VSPs as proxy AVO observations (Figure 4).\n",
    "\n",
    "> TRACES\n",
    "<center><b>Figure 3:</b> <i>Stacked traces for baseline, elastic and viscoelastic models</i></center>\n",
    "\n",
    "> PRIMARIES\n",
    "<center><b>Figure 4:</b> <i>Primaries for the viscoelastic model</i></center>"
   ]
  },
  {
   "cell_type": "markdown",
   "metadata": {},
   "source": []
  }
 ],
 "metadata": {
  "kernelspec": {
   "display_name": "Python 3",
   "language": "python",
   "name": "python3"
  },
  "language_info": {
   "codemirror_mode": {
    "name": "ipython",
    "version": 3
   },
   "file_extension": ".py",
   "mimetype": "text/x-python",
   "name": "python",
   "nbconvert_exporter": "python",
   "pygments_lexer": "ipython3",
   "version": "3.10.12"
  }
 },
 "nbformat": 4,
 "nbformat_minor": 2
}
